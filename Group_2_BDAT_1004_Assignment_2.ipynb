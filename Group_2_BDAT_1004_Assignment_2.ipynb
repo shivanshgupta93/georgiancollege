{
 "cells": [
  {
   "cell_type": "markdown",
   "metadata": {},
   "source": [
    "# Assignment 2 Variables, Conditions and Functions "
   ]
  },
  {
   "cell_type": "markdown",
   "metadata": {},
   "source": [
    "## Chapter 2"
   ]
  },
  {
   "cell_type": "markdown",
   "metadata": {},
   "source": [
    "### Exercise 2: Write a program that uses input to prompt a user for their name and then welcomes them."
   ]
  },
  {
   "cell_type": "code",
   "execution_count": 1,
   "metadata": {},
   "outputs": [
    {
     "name": "stdout",
     "output_type": "stream",
     "text": [
      "What is your name? Shivansh\n",
      "Welcome to the program Shivansh\n"
     ]
    }
   ],
   "source": [
    "user_name=input(\"What is your name? \")\n",
    "print (\"Welcome to the program \" + user_name)"
   ]
  },
  {
   "cell_type": "markdown",
   "metadata": {},
   "source": [
    "### Exercise 3: Write a program to prompt the user for hours and rate per hour to compute gross pay."
   ]
  },
  {
   "cell_type": "code",
   "execution_count": 2,
   "metadata": {},
   "outputs": [
    {
     "name": "stdout",
     "output_type": "stream",
     "text": [
      "What is your hourly wage? 12\n",
      "What is the number of hours completed in this month? 40\n",
      "The gross pay for this month is 480.0\n"
     ]
    }
   ],
   "source": [
    "hour_wage = float(input(\"What is your hourly wage? \"))\n",
    "total_hours = float(input(\"What is the number of hours completed in this month? \"))\n",
    "gross_pay = hour_wage*total_hours\n",
    "print(\"The gross pay for this month is \"+ str(gross_pay))"
   ]
  },
  {
   "cell_type": "markdown",
   "metadata": {},
   "source": [
    "### Exercise 4: Assume that we execute the following assignment statements:\n",
    "width = 17\n",
    "height = 12.0\n",
    "For each of the following expressions, write the value of the expression and the type (of the value of the expression):\n",
    "1. width//2\n",
    "2. width/2.0\n",
    "3. height/3\n",
    "4. 1 + 2 * 5"
   ]
  },
  {
   "cell_type": "code",
   "execution_count": null,
   "metadata": {},
   "outputs": [],
   "source": [
    "Answers:\n",
    "1. 8, int\n",
    "2. 8.5, float\n",
    "3. 4.0, float\n",
    "4. 11, int"
   ]
  },
  {
   "cell_type": "markdown",
   "metadata": {},
   "source": [
    "### Exercise 5: Write a program which prompts the user for a Celsius temperature, convert the temperature to Fahrenheit, and print out the\n",
    "### converted temperature."
   ]
  },
  {
   "cell_type": "code",
   "execution_count": 3,
   "metadata": {},
   "outputs": [
    {
     "name": "stdout",
     "output_type": "stream",
     "text": [
      "Enter the temperature in celsius: 34.60\n",
      "Temperature in Fahrenheit is 94.28 F\n"
     ]
    }
   ],
   "source": [
    "celsius = float(input(\"Enter the temperature in celsius: \"))\n",
    "fahrenheit = ((9/5)*celsius)+32\n",
    "print(\"Temperature in Fahrenheit is \" + str(fahrenheit) + \" F\")"
   ]
  },
  {
   "cell_type": "markdown",
   "metadata": {},
   "source": [
    "## Chapter 3"
   ]
  },
  {
   "cell_type": "markdown",
   "metadata": {},
   "source": [
    "### Exercise 1: Rewrite your pay computation to give the employee 1.5 times the hourly rate for hours worked above 40 hours."
   ]
  },
  {
   "cell_type": "code",
   "execution_count": 16,
   "metadata": {},
   "outputs": [
    {
     "name": "stdout",
     "output_type": "stream",
     "text": [
      "What is the total hours you have worked this month? 45\n",
      "What is the amount you get paid for every hour? 10.35\n",
      "The gross pay for this month is 491.625000\n"
     ]
    }
   ],
   "source": [
    "hours_worked=int(input(\"What is the total hours you have worked this month? \"))\n",
    "rate_per_hour=float(input(\"What is the amount you get paid for every hour? \"))\n",
    "if (hours_worked > 40):\n",
    "    extra_hours = hours_worked - 40\n",
    "    hours_worked = 40\n",
    "else:\n",
    "    extra_hours = 0\n",
    "gross_pay = (hours_worked*rate_per_hour) + (extra_hours*1.5*rate_per_hour)\n",
    "\n",
    "print(\"The gross pay for this month is %f\"%(gross_pay))"
   ]
  },
  {
   "cell_type": "markdown",
   "metadata": {},
   "source": [
    "### Exercise 2: Rewrite your pay program using try and except so that your program handles non-numeric input gracefully by printing a message and exiting the program. The following shows two executions of the program:"
   ]
  },
  {
   "cell_type": "code",
   "execution_count": 2,
   "metadata": {},
   "outputs": [
    {
     "name": "stdout",
     "output_type": "stream",
     "text": [
      "What is the total hours you have worked this month? bigdata\n",
      "Wrong Input\n"
     ]
    }
   ],
   "source": [
    "try:\n",
    "    hours_worked=int(input(\"What is the total hours you have worked this month? \"))\n",
    "    rate_per_hour=float(input(\"What are your hourly wages?\"))\n",
    "    if (hours_worked > 40):\n",
    "        extra_hours = hours_worked - 40\n",
    "        hours_worked = 40\n",
    "    else:\n",
    "        extra_hours = 0\n",
    "    \n",
    "    gross_pay = (hours_worked*rate_per_hour) + (extra_hours*1.5*rate_per_hour)\n",
    "\n",
    "    print(\"The gross pay for this month is %f\"%(gross_pay))\n",
    "\n",
    "except:\n",
    "    print(\"Wrong Input\")"
   ]
  },
  {
   "cell_type": "markdown",
   "metadata": {},
   "source": [
    "### Exercise 3: Write a program to prompt for a score between 0.0 and 1.0. If the score is out of range, print an error message. If the score is between 0.0 and 1.0, print a grade using the following table:"
   ]
  },
  {
   "cell_type": "code",
   "execution_count": 4,
   "metadata": {
    "scrolled": true
   },
   "outputs": [
    {
     "name": "stdout",
     "output_type": "stream",
     "text": [
      "Enter a score between 0.0 and 1.0: 0.78\n",
      "Your grade is C\n"
     ]
    }
   ],
   "source": [
    "try: \n",
    "    score = float(input(\"Enter a score between 0.0 and 1.0: \"))\n",
    "    if score>=0.9 and score<=1.0:\n",
    "        grade = \"A\"\n",
    "    elif score>=0.8 and score <0.9:\n",
    "        grade = \"B\"\n",
    "    elif score>=0.7 and score <0.8:\n",
    "        grade = \"C\"\n",
    "    elif score>=0.6 and score <0.7:\n",
    "        grade = \"D\"\n",
    "    elif score>=0 and score <0.6:\n",
    "        grade = \"F\"\n",
    "    else:\n",
    "        grade = \"Not Applicable\"\n",
    "    print(\"Your grade is \" + grade)\n",
    "except:\n",
    "    print(\"Wrong Input\")"
   ]
  },
  {
   "cell_type": "markdown",
   "metadata": {},
   "source": [
    "## Chapter 4"
   ]
  },
  {
   "cell_type": "markdown",
   "metadata": {},
   "source": [
    "### Exercise 5: What will the following Python program print out? (See textbook page 54)\n",
    "def fred():\n",
    "    print(\"Zap\")\n",
    "def jane():\n",
    "    print(\"ABC\")\n",
    "\n",
    "jane()\n",
    "fred()\n",
    "jane()"
   ]
  },
  {
   "cell_type": "code",
   "execution_count": null,
   "metadata": {},
   "outputs": [],
   "source": [
    "ABC\n",
    "Zap\n",
    "ABC"
   ]
  },
  {
   "cell_type": "markdown",
   "metadata": {},
   "source": [
    "### Exercise 6: Rewrite your pay computation with time-and-a-half for over-time and create a function called computepay which takes two parameters (hours and rate)."
   ]
  },
  {
   "cell_type": "code",
   "execution_count": 18,
   "metadata": {},
   "outputs": [
    {
     "name": "stdout",
     "output_type": "stream",
     "text": [
      "What is the total hours you have worked this month? 47\n",
      "What is the amount you get paid for every hour? 10.85\n",
      "The gross pay for this month is 547.925000\n"
     ]
    }
   ],
   "source": [
    "def computepay(hours_worked, rate_per_hour):\n",
    "    if (hours_worked > 40):\n",
    "        extra_hours = hours_worked - 40\n",
    "        hours_worked = 40\n",
    "    else:\n",
    "        extra_hours = 0\n",
    "    gross_pay = (hours_worked*rate_per_hour) + (extra_hours*1.5*rate_per_hour)\n",
    "\n",
    "    print(\"The gross pay for this month is %f\"%(gross_pay))\n",
    "    \n",
    "try:\n",
    "    hours_worked=int(input(\"What is the total hours you have worked this month? \"))\n",
    "    rate_per_hour=float(input(\"What is the amount you get paid for every hour? \"))\n",
    "    computepay(hours_worked, rate_per_hour)\n",
    "    \n",
    "except:\n",
    "    print(\"Wrong Input\")"
   ]
  },
  {
   "cell_type": "markdown",
   "metadata": {},
   "source": [
    "### Exercise 7: Rewrite the grade program from the previous chapter using a function called computegrade that takes a score as its parameter and returns a grade as a string."
   ]
  },
  {
   "cell_type": "code",
   "execution_count": 3,
   "metadata": {},
   "outputs": [
    {
     "name": "stdout",
     "output_type": "stream",
     "text": [
      "Enter a score between 0.0 and 1.0: 0.89\n",
      "Your grade is B\n"
     ]
    }
   ],
   "source": [
    "def computegrade(score):\n",
    "    if score>=0.9 and score<=1.0:\n",
    "        grade = \"A\"\n",
    "    elif score>=0.8 and score <0.9:\n",
    "        grade = \"B\"\n",
    "    elif score>=0.7 and score <0.8:\n",
    "        grade = \"C\"\n",
    "    elif score>=0.6 and score <0.7:\n",
    "        grade = \"D\"\n",
    "    elif score>=0 and score <0.6:\n",
    "        grade = \"F\"\n",
    "    else:\n",
    "        grade = \"Not Applicable\"\n",
    "        \n",
    "    return grade\n",
    "        \n",
    "\n",
    "try:\n",
    "    score = float(input(\"Enter a score between 0.0 and 1.0: \"))\n",
    "    grade = computegrade(score)\n",
    "    print(\"Your grade is \" + grade)\n",
    "except:\n",
    "    print(\"Wrong input\")\n",
    "    "
   ]
  },
  {
   "cell_type": "code",
   "execution_count": null,
   "metadata": {},
   "outputs": [],
   "source": []
  }
 ],
 "metadata": {
  "kernelspec": {
   "display_name": "Python 3",
   "language": "python",
   "name": "python3"
  },
  "language_info": {
   "codemirror_mode": {
    "name": "ipython",
    "version": 3
   },
   "file_extension": ".py",
   "mimetype": "text/x-python",
   "name": "python",
   "nbconvert_exporter": "python",
   "pygments_lexer": "ipython3",
   "version": "3.7.3"
  }
 },
 "nbformat": 4,
 "nbformat_minor": 2
}
