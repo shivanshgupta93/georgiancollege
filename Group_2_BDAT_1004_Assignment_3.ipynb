{
 "cells": [
  {
   "cell_type": "markdown",
   "metadata": {},
   "source": [
    "# Assignment 3 Iterations, Strings, Files, Lists and Tuples"
   ]
  },
  {
   "cell_type": "markdown",
   "metadata": {},
   "source": [
    "## Chapter 5"
   ]
  },
  {
   "cell_type": "markdown",
   "metadata": {},
   "source": [
    "### Exercise 1"
   ]
  },
  {
   "cell_type": "code",
   "execution_count": 1,
   "metadata": {},
   "outputs": [
    {
     "name": "stdout",
     "output_type": "stream",
     "text": [
      "Please enter an number: 45.20\n",
      "Please enter an number: 65.20\n",
      "Please enter an number: 78.20\n",
      "Please enter an number: sdsad\n",
      "Wrong Input\n",
      "Please enter an number: done\n",
      "The total of the input is: 188.600000\n",
      "The total number of inputs are: 3.000000\n",
      "The average of the input is: 62.866667\n"
     ]
    }
   ],
   "source": [
    "total = 0.0\n",
    "count = 0\n",
    "while True:\n",
    "    user_input = input(\"Please enter an number: \")\n",
    "    if user_input.upper() == 'DONE':\n",
    "        break\n",
    "    else:\n",
    "        try:\n",
    "            int_user_input = float(user_input)\n",
    "            total = total + int_user_input\n",
    "            count = count + 1\n",
    "        except:\n",
    "            print(\"Wrong Input\")\n",
    "            continue\n",
    "\n",
    "print(\"The total of the input is: %f\" %(total))\n",
    "print(\"The total number of inputs are: %f\" %(count))\n",
    "print(\"The average of the input is: %f\" %(total/count))"
   ]
  },
  {
   "cell_type": "markdown",
   "metadata": {},
   "source": [
    "### Exercise 2"
   ]
  },
  {
   "cell_type": "code",
   "execution_count": 2,
   "metadata": {},
   "outputs": [
    {
     "name": "stdout",
     "output_type": "stream",
     "text": [
      "Please enter an number: 54.20\n",
      "Please enter an number: 12.02\n",
      "Please enter an number: 100.32\n",
      "Please enter an number: 120.12\n",
      "Please enter an number: 140\n",
      "Please enter an number: dssad\n",
      "Wrong Input\n",
      "Please enter an number: 0.12\n",
      "Please enter an number: done\n",
      "The maximum number is: 140.000000\n",
      "The minimum number is: 0.120000\n"
     ]
    }
   ],
   "source": [
    "lst = []\n",
    "while True:\n",
    "    user_input = input(\"Please enter an number: \")\n",
    "    if user_input.upper() == 'DONE':\n",
    "        break\n",
    "    else:\n",
    "        try:\n",
    "            int_user_input = float(user_input)\n",
    "            lst.append(int_user_input)\n",
    "        except:\n",
    "            print(\"Wrong Input\")\n",
    "            continue\n",
    "\n",
    "maximum = float(lst[0])\n",
    "minimum = float(lst[0])\n",
    "\n",
    "for item in lst:\n",
    "    if item > maximum:\n",
    "        maximum = float(item)\n",
    "    \n",
    "    if item < minimum:\n",
    "        minimum = float(item)\n",
    "        \n",
    "print(\"The maximum number is: %f\" %(maximum))\n",
    "print(\"The minimum number is: %f\" %(minimum))"
   ]
  },
  {
   "cell_type": "markdown",
   "metadata": {},
   "source": [
    "## Chapter 6"
   ]
  },
  {
   "cell_type": "markdown",
   "metadata": {},
   "source": [
    "### Exercise 5"
   ]
  },
  {
   "cell_type": "code",
   "execution_count": 4,
   "metadata": {},
   "outputs": [
    {
     "name": "stdout",
     "output_type": "stream",
     "text": [
      "The floating number in string is: 0.847500\n"
     ]
    }
   ],
   "source": [
    "str = 'X-DSPAM-Confidence:0.8475'\n",
    "colon_pos = str.find(':')\n",
    "sub_num = float(str[colon_pos+1:len(str)])\n",
    "print(\"The floating number in string is: %f\" %(sub_num))"
   ]
  },
  {
   "cell_type": "markdown",
   "metadata": {},
   "source": [
    "## Chapter 7"
   ]
  },
  {
   "cell_type": "markdown",
   "metadata": {},
   "source": [
    "### Exercise 2"
   ]
  },
  {
   "cell_type": "code",
   "execution_count": 14,
   "metadata": {},
   "outputs": [
    {
     "name": "stdout",
     "output_type": "stream",
     "text": [
      "Please enter the filename: mbox.txt\n",
      "The total of spam confidence is: 1606.748100\n",
      "The total number of spam confidence are: 1797.000000\n",
      "The average of spam confidence is: 0.894128\n"
     ]
    }
   ],
   "source": [
    "str = 'X-DSPAM-Confidence:'\n",
    "\n",
    "total = 0.0\n",
    "count = 0\n",
    "\n",
    "file_name=input(\"Please enter the filename: \")\n",
    "\n",
    "file_data = open(file_name)\n",
    "\n",
    "for line in file_data:\n",
    "    if line.startswith(str):\n",
    "        colon_pos = line.find(':')\n",
    "        sub_num = float(line[colon_pos+1:len(line)])\n",
    "        total = total + sub_num\n",
    "        count = count + 1\n",
    "print(\"The total of spam confidence is: %f\" %(total))\n",
    "print(\"The total number of spam confidence are: %f\" %(count))\n",
    "if count == 0:\n",
    "    print(\"No spam confidence found in file, hence the average is 0\")\n",
    "else:\n",
    "    print(\"The average of spam confidence is: %f\" %(total/count))"
   ]
  },
  {
   "cell_type": "markdown",
   "metadata": {},
   "source": [
    "## Chapter 8"
   ]
  },
  {
   "cell_type": "markdown",
   "metadata": {},
   "source": [
    "### Exercise 4"
   ]
  },
  {
   "cell_type": "code",
   "execution_count": 13,
   "metadata": {},
   "outputs": [
    {
     "name": "stdout",
     "output_type": "stream",
     "text": [
      "Please enter the filename: romeo.txt\n",
      "['Arise', 'But', 'It', 'Juliet', 'Who', 'already', 'and', 'breaks', 'east', 'envious', 'fair', 'grief', 'is', 'kill', 'light', 'moon', 'pale', 'sick', 'soft', 'sun', 'the', 'through', 'what', 'window', 'with', 'yonder']\n"
     ]
    }
   ],
   "source": [
    "word_lst = []\n",
    "\n",
    "file_name=input(\"Please enter the filename: \")\n",
    "\n",
    "file_data = open(file_name)\n",
    "\n",
    "for line in file_data:\n",
    "    lst = line.split()\n",
    "    for word in lst:\n",
    "        if word not in word_lst:\n",
    "            word_lst.append(word)\n",
    "word_lst.sort()\n",
    "print(word_lst)"
   ]
  },
  {
   "cell_type": "markdown",
   "metadata": {},
   "source": [
    "### Exercise 5"
   ]
  },
  {
   "cell_type": "code",
   "execution_count": 26,
   "metadata": {},
   "outputs": [
    {
     "name": "stdout",
     "output_type": "stream",
     "text": [
      "Please enter the filename: mbox-short.txt\n",
      "stephen.marquard@uct.ac.za\n",
      "stephen.marquard@uct.ac.za\n",
      "louis@media.berkeley.edu\n",
      "louis@media.berkeley.edu\n",
      "zqian@umich.edu\n",
      "zqian@umich.edu\n",
      "rjlowe@iupui.edu\n",
      "rjlowe@iupui.edu\n",
      "zqian@umich.edu\n",
      "zqian@umich.edu\n",
      "rjlowe@iupui.edu\n",
      "rjlowe@iupui.edu\n",
      "cwen@iupui.edu\n",
      "cwen@iupui.edu\n",
      "cwen@iupui.edu\n",
      "cwen@iupui.edu\n",
      "gsilver@umich.edu\n",
      "gsilver@umich.edu\n",
      "gsilver@umich.edu\n",
      "gsilver@umich.edu\n",
      "zqian@umich.edu\n",
      "zqian@umich.edu\n",
      "gsilver@umich.edu\n",
      "gsilver@umich.edu\n",
      "wagnermr@iupui.edu\n",
      "wagnermr@iupui.edu\n",
      "zqian@umich.edu\n",
      "zqian@umich.edu\n",
      "antranig@caret.cam.ac.uk\n",
      "antranig@caret.cam.ac.uk\n",
      "gopal.ramasammycook@gmail.com\n",
      "gopal.ramasammycook@gmail.com\n",
      "david.horwitz@uct.ac.za\n",
      "david.horwitz@uct.ac.za\n",
      "david.horwitz@uct.ac.za\n",
      "david.horwitz@uct.ac.za\n",
      "david.horwitz@uct.ac.za\n",
      "david.horwitz@uct.ac.za\n",
      "david.horwitz@uct.ac.za\n",
      "david.horwitz@uct.ac.za\n",
      "stephen.marquard@uct.ac.za\n",
      "stephen.marquard@uct.ac.za\n",
      "louis@media.berkeley.edu\n",
      "louis@media.berkeley.edu\n",
      "louis@media.berkeley.edu\n",
      "louis@media.berkeley.edu\n",
      "ray@media.berkeley.edu\n",
      "ray@media.berkeley.edu\n",
      "cwen@iupui.edu\n",
      "cwen@iupui.edu\n",
      "cwen@iupui.edu\n",
      "cwen@iupui.edu\n",
      "cwen@iupui.edu\n",
      "cwen@iupui.edu\n",
      "Total number of 'From' in file are: 27\n"
     ]
    }
   ],
   "source": [
    "count = 0\n",
    "\n",
    "file_name=input(\"Please enter the filename: \")\n",
    "\n",
    "file_data = open(file_name)\n",
    "\n",
    "for line in file_data:\n",
    "    if line.startswith('From'):\n",
    "        lst = line.split()\n",
    "        if lst[0] == 'From':\n",
    "            count = count + 1\n",
    "            print(lst[1])\n",
    "            \n",
    "print(\"Total number of 'From' in file are: %d\" %(count))"
   ]
  },
  {
   "cell_type": "markdown",
   "metadata": {},
   "source": [
    "## Chapter 9"
   ]
  },
  {
   "cell_type": "markdown",
   "metadata": {},
   "source": [
    "### Exercise 4"
   ]
  },
  {
   "cell_type": "code",
   "execution_count": 37,
   "metadata": {},
   "outputs": [
    {
     "name": "stdout",
     "output_type": "stream",
     "text": [
      "Please enter the filename: mbox-short.txt\n",
      "The maximum number of emails sent are 5 by cwen@iupui.edu\n"
     ]
    }
   ],
   "source": [
    "count_dic = {}\n",
    "email_lst = []\n",
    "\n",
    "file_name=input(\"Please enter the filename: \")\n",
    "\n",
    "file_data = open(file_name)\n",
    "\n",
    "for line in file_data:\n",
    "    if line.startswith('From'):\n",
    "        lst = line.split()\n",
    "        if lst[0] == 'From':\n",
    "            email_lst.append(lst[1])\n",
    "        \n",
    "for email in email_lst:\n",
    "    if email not in count_dic:\n",
    "        count_dic[email] = 1\n",
    "    else:\n",
    "        count_dic[email] = count_dic[email]+1\n",
    "\n",
    "maximum = 0\n",
    "\n",
    "for email in email_lst:\n",
    "    if count_dic[email] > maximum:\n",
    "        maximum = count_dic[email]\n",
    "        max_email = email\n",
    "\n",
    "print(\"The maximum number of emails sent are %d by %s\" %(maximum, max_email))"
   ]
  },
  {
   "cell_type": "markdown",
   "metadata": {},
   "source": [
    "### Exercise 5"
   ]
  },
  {
   "cell_type": "code",
   "execution_count": 42,
   "metadata": {},
   "outputs": [
    {
     "name": "stdout",
     "output_type": "stream",
     "text": [
      "Please enter the filename: mbox.txt\n",
      "{'uct.ac.za': 96, 'media.berkeley.edu': 56, 'umich.edu': 491, 'iupui.edu': 536, 'caret.cam.ac.uk': 157, 'gmail.com': 25, 'indiana.edu': 178, 'et.gatech.edu': 17, 'vt.edu': 110, 'lancaster.ac.uk': 14, 'ucdavis.edu': 1, 'ufp.pt': 28, 'txstate.edu': 17, 'stanford.edu': 12, 'whitman.edu': 17, 'rsmart.com': 8, 'fhda.edu': 1, 'bu.edu': 14, 'unicon.net': 9, 'loi.nl': 9, 'utoronto.ca': 1}\n"
     ]
    }
   ],
   "source": [
    "count_dic = {}\n",
    "domain_lst = []\n",
    "\n",
    "file_name=input(\"Please enter the filename: \")\n",
    "\n",
    "file_data = open(file_name)\n",
    "\n",
    "for line in file_data:\n",
    "    if line.startswith('From'):\n",
    "        lst = line.split()\n",
    "        if lst[0] == 'From':\n",
    "            domain_lst.append(lst[1][lst[1].find(\"@\")+1:len(lst[1])])\n",
    "        \n",
    "for domain in domain_lst:\n",
    "    if domain not in count_dic:\n",
    "        count_dic[domain] = 1\n",
    "    else:\n",
    "        count_dic[domain] = count_dic[domain]+1\n",
    "\n",
    "print(count_dic)"
   ]
  },
  {
   "cell_type": "markdown",
   "metadata": {},
   "source": [
    "## Chapter 10 "
   ]
  },
  {
   "cell_type": "markdown",
   "metadata": {},
   "source": [
    "### Exercise 2"
   ]
  },
  {
   "cell_type": "code",
   "execution_count": 60,
   "metadata": {},
   "outputs": [
    {
     "name": "stdout",
     "output_type": "stream",
     "text": [
      "Please enter the filename: mbox-short.txt\n",
      "04, 3\n",
      "06, 1\n",
      "07, 1\n",
      "09, 2\n",
      "10, 3\n",
      "11, 6\n",
      "14, 1\n",
      "15, 2\n",
      "16, 4\n",
      "17, 2\n",
      "18, 1\n",
      "19, 1\n"
     ]
    }
   ],
   "source": [
    "time_dic = {}\n",
    "time_lst = []\n",
    "timlst=[]\n",
    "\n",
    "file_name=input(\"Please enter the filename: \")\n",
    "\n",
    "file_data = open(file_name)\n",
    "\n",
    "for line in file_data:\n",
    "    if line.startswith('From'):\n",
    "        lst = line.split()\n",
    "        if lst[0] == 'From':\n",
    "            time = lst[5].split(':')\n",
    "            time_lst.append(time[0])\n",
    "      \n",
    "for time in time_lst:\n",
    "    if time not in time_dic:\n",
    "        time_dic[time] = 1\n",
    "    else:\n",
    "        time_dic[time] = time_dic[time]+1\n",
    "\n",
    "for key,value in list(time_dic.items()):\n",
    "    timlst.append((key,value))\n",
    "\n",
    "timlst.sort()\n",
    "\n",
    "for item in timlst:\n",
    "    print(\"%s, %d\" %(item[0], item[1]))"
   ]
  },
  {
   "cell_type": "markdown",
   "metadata": {},
   "source": [
    "### Excercise 3"
   ]
  },
  {
   "cell_type": "code",
   "execution_count": 1,
   "metadata": {},
   "outputs": [
    {
     "name": "stdout",
     "output_type": "stream",
     "text": [
      "Please enter the filename: mbox.txt\n",
      "e, 9.597084\n",
      "a, 8.440397\n",
      "i, 7.524330\n",
      "o, 7.343473\n",
      "t, 7.188104\n",
      "r, 6.695058\n",
      "s, 6.561755\n",
      "c, 5.655997\n",
      "u, 5.048438\n",
      "n, 4.534537\n",
      "m, 4.230804\n",
      "p, 4.001158\n",
      "d, 3.524502\n",
      "l, 3.441580\n",
      "h, 2.470738\n",
      "k, 2.070330\n",
      "b, 2.032539\n",
      "v, 1.775719\n",
      "f, 1.763724\n",
      "g, 1.631799\n",
      "j, 1.215096\n",
      "y, 1.143884\n",
      "w, 1.113860\n",
      "x, 0.807871\n",
      "q, 0.097079\n",
      "z, 0.090143\n"
     ]
    }
   ],
   "source": [
    "alpha_dic ={}\n",
    "total_count = 0\n",
    "final_lst = []\n",
    "alpha_lst = []\n",
    "\n",
    "file_name=input(\"Please enter the filename: \")\n",
    "\n",
    "file_data = open(file_name)\n",
    "\n",
    "for line in file_data:\n",
    "    line_lst = list(line.lower())\n",
    "    for alpha in line_lst:\n",
    "        if alpha.isalpha():\n",
    "            final_lst.append(alpha)\n",
    "\n",
    "for item in final_lst:\n",
    "    if item in alpha_dic:\n",
    "        alpha_dic[item] = alpha_dic[item] + 1\n",
    "    else:\n",
    "        alpha_dic[item] = 1\n",
    "    total_count = total_count + 1\n",
    "\n",
    "for item in alpha_dic:\n",
    "    alpha_dic[item] = (alpha_dic[item]/total_count)*100\n",
    "    \n",
    "for key,value in list(alpha_dic.items()):\n",
    "    alpha_lst.append((value,key))\n",
    "    \n",
    "alpha_lst.sort(reverse = True)\n",
    "\n",
    "for item in alpha_lst:\n",
    "    print(\"%s, %f\" %(item[1], item[0]))"
   ]
  },
  {
   "cell_type": "code",
   "execution_count": null,
   "metadata": {},
   "outputs": [],
   "source": []
  }
 ],
 "metadata": {
  "kernelspec": {
   "display_name": "Python 3",
   "language": "python",
   "name": "python3"
  },
  "language_info": {
   "codemirror_mode": {
    "name": "ipython",
    "version": 3
   },
   "file_extension": ".py",
   "mimetype": "text/x-python",
   "name": "python",
   "nbconvert_exporter": "python",
   "pygments_lexer": "ipython3",
   "version": "3.7.3"
  }
 },
 "nbformat": 4,
 "nbformat_minor": 2
}
